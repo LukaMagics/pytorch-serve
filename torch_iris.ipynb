{
 "cells": [
  {
   "cell_type": "code",
   "execution_count": 1,
   "id": "da00c3c6-8f40-4edb-8456-8958eab8d931",
   "metadata": {},
   "outputs": [],
   "source": [
    "import kfp\n",
    "from kfp import dsl\n",
    "import kfp.components as components\n",
    "from minio import Minio\n",
    "import torch\n",
    "import torch.nn.functional as F\n",
    "import torch.nn as nn\n",
    "import numpy as np\n",
    "import pandas as pd\n",
    "from sklearn.datasets import load_iris\n",
    "from sklearn.model_selection import train_test_split"
   ]
  },
  {
   "cell_type": "code",
   "execution_count": 7,
   "id": "3eda3355-d084-447a-b9ff-da1a207680df",
   "metadata": {},
   "outputs": [
    {
     "data": {
      "text/plain": [
       "torch.Tensor"
      ]
     },
     "execution_count": 7,
     "metadata": {},
     "output_type": "execute_result"
    }
   ],
   "source": [
    "torch.tensor([[6.8,  2.8,  4.8,  1.4], [6.0,  3.4,  4.5,  1.6]]"
   ]
  },
  {
   "cell_type": "code",
   "execution_count": 36,
   "id": "10bea538-6715-447c-b081-079dc2ef0735",
   "metadata": {},
   "outputs": [
    {
     "data": {
      "text/plain": [
       "('bef8f986f3777d21f049471242c7fd26-1', None)"
      ]
     },
     "execution_count": 36,
     "metadata": {},
     "output_type": "execute_result"
    }
   ],
   "source": [
    "minio_client = Minio(\n",
    "    \"192.168.0.5:9000\",\n",
    "    access_key=\"minio\",\n",
    "    secret_key=\"minio123\",\n",
    "    secure=False\n",
    ")\n",
    "minio_bucket = \"test\"\n",
    "\n",
    "iris = load_iris()\n",
    "X = iris['data']\n",
    "y = iris['target']\n",
    "\n",
    "df_X = pd.DataFrame(X)\n",
    "df_y = pd.DataFrame(y)\n",
    "\n",
    "df_X.to_csv(\"/tmp/iris_df_X.csv\", index=False)\n",
    "minio_client.fput_object(minio_bucket,\"iris_df_X.csv\",\"/tmp/iris_df_X.csv\")\n",
    "df_y.to_csv(\"/tmp/iris_df_y.csv\", index=False)\n",
    "minio_client.fput_object(minio_bucket,\"iris_df_y.csv\",\"/tmp/iris_df_y.csv\")"
   ]
  },
  {
   "cell_type": "code",
   "execution_count": null,
   "id": "4e2945f0-acc2-4a57-83d7-517656cf4e86",
   "metadata": {},
   "outputs": [],
   "source": [
    "class Model(nn.Module):\n",
    "    def __init__(self, input_dim):\n",
    "        super(Model, self).__init__()\n",
    "        self.layer1 = nn.Linear(input_dim, 50)\n",
    "        self.layer2 = nn.Linear(50, 50)\n",
    "        self.layer3 = nn.Linear(50, 3)\n",
    "        \n",
    "    def forward(self, x):\n",
    "        x = F.relu(self.layer1(x))\n",
    "        x = F.relu(self.layer2(x))\n",
    "        x = F.softmax(self.layer3(x), dim=1)\n",
    "        return x"
   ]
  },
  {
   "cell_type": "code",
   "execution_count": 38,
   "id": "dc567c03-9a02-441c-916a-0c16e4a4557d",
   "metadata": {},
   "outputs": [
    {
     "name": "stdout",
     "output_type": "stream",
     "text": [
      "torch.Size([120, 4])\n",
      "torch.Size([30, 4])\n",
      "torch.Size([120])\n",
      "torch.Size([30])\n",
      "Model(\n",
      "  (layer1): Linear(in_features=4, out_features=50, bias=True)\n",
      "  (layer2): Linear(in_features=50, out_features=50, bias=True)\n",
      "  (layer3): Linear(in_features=50, out_features=3, bias=True)\n",
      ")\n"
     ]
    }
   ],
   "source": [
    "minio_client = Minio(\n",
    "    \"192.168.0.5:9000\",\n",
    "    access_key=\"minio\",\n",
    "    secret_key=\"minio123\",\n",
    "    secure=False\n",
    ")\n",
    "minio_bucket = \"test\"\n",
    "\n",
    "minio_client.fget_object(minio_bucket,\"iris_df_X.csv\",\"/tmp/iris_df_X.csv\")\n",
    "minio_client.fget_object(minio_bucket,\"iris_df_y.csv\",\"/tmp/iris_df_y.csv\")\n",
    "\n",
    "df_X = pd.read_csv(\"/tmp/iris_df_X.csv\")\n",
    "df_y = pd.read_csv(\"/tmp/iris_df_y.csv\")\n",
    "\n",
    "X_train, X_test, y_train, y_test = train_test_split(X, y, test_size=0.2, random_state=2)\n",
    "\n",
    "X_train = torch.FloatTensor(X_train)\n",
    "X_test = torch.FloatTensor(X_test)\n",
    "y_train = torch.LongTensor(y_train)\n",
    "y_test = torch.LongTensor(y_test)\n",
    "\n",
    "print(X_train.shape)\n",
    "print(X_test.shape)\n",
    "print(y_train.shape)\n",
    "print(y_test.shape)\n",
    "\n",
    "model     = Model(X_train.shape[1])\n",
    "optimizer = torch.optim.Adam(model.parameters(), lr=0.001)\n",
    "loss_fn   = nn.CrossEntropyLoss()\n",
    "\n",
    "print(model)\n",
    "\n",
    "EPOCHS  = 100\n",
    "loss_list     = np.zeros((EPOCHS,))\n",
    "accuracy_list = np.zeros((EPOCHS,))\n",
    "\n",
    "for epoch in range(EPOCHS):\n",
    "    y_pred = model(X_train)\n",
    "    loss = loss_fn(y_pred, y_train)\n",
    "    loss_list[epoch] = loss.item()\n",
    "    \n",
    "    # Zero gradients\n",
    "    optimizer.zero_grad()\n",
    "    loss.backward()\n",
    "    optimizer.step()\n",
    "    \n",
    "    with torch.no_grad():\n",
    "        y_pred = model(X_test)\n",
    "        correct = (torch.argmax(y_pred, dim=1) == y_test).type(torch.FloatTensor)\n",
    "        accuracy_list[epoch] = correct.mean()"
   ]
  },
  {
   "cell_type": "code",
   "execution_count": 42,
   "id": "5e6db25d-f985-401b-af18-6602e039f112",
   "metadata": {},
   "outputs": [
    {
     "data": {
      "text/plain": [
       "tensor([[0.0136, 0.6330, 0.3534],\n",
       "        [0.0333, 0.6532, 0.3135]], grad_fn=<SoftmaxBackward>)"
      ]
     },
     "execution_count": 42,
     "metadata": {},
     "output_type": "execute_result"
    }
   ],
   "source": [
    "# predict with trained model\n",
    "model(torch.FloatTensor([[6.8,  2.8,  4.8,  1.4], [6.0,  3.4,  4.5,  1.6]]))"
   ]
  },
  {
   "cell_type": "code",
   "execution_count": 25,
   "id": "98ba0a1c-638a-4831-bc88-ab74ac2b1fcd",
   "metadata": {
    "collapsed": true,
    "jupyter": {
     "outputs_hidden": true
    },
    "tags": []
   },
   "outputs": [
    {
     "data": {
      "text/plain": [
       "array([0.26666668, 0.26666668, 0.26666668, 0.26666668, 0.26666668,\n",
       "       0.26666668, 0.26666668, 0.26666668, 0.26666668, 0.26666668,\n",
       "       0.26666668, 0.26666668, 0.26666668, 0.26666668, 0.26666668,\n",
       "       0.26666668, 0.26666668, 0.26666668, 0.26666668, 0.26666668,\n",
       "       0.26666668, 0.26666668, 0.40000001, 0.53333336, 0.63333333,\n",
       "       0.69999999, 0.73333335, 0.73333335, 0.73333335, 0.73333335,\n",
       "       0.73333335, 0.73333335, 0.73333335, 0.73333335, 0.73333335,\n",
       "       0.73333335, 0.73333335, 0.73333335, 0.73333335, 0.73333335,\n",
       "       0.73333335, 0.73333335, 0.73333335, 0.73333335, 0.73333335,\n",
       "       0.73333335, 0.73333335, 0.73333335, 0.73333335, 0.73333335,\n",
       "       0.73333335, 0.73333335, 0.73333335, 0.73333335, 0.73333335,\n",
       "       0.73333335, 0.73333335, 0.73333335, 0.73333335, 0.73333335,\n",
       "       0.73333335, 0.73333335, 0.73333335, 0.73333335, 0.73333335,\n",
       "       0.73333335, 0.73333335, 0.73333335, 0.73333335, 0.73333335,\n",
       "       0.73333335, 0.73333335, 0.73333335, 0.73333335, 0.73333335,\n",
       "       0.73333335, 0.73333335, 0.73333335, 0.73333335, 0.76666665,\n",
       "       0.76666665, 0.76666665, 0.80000001, 0.80000001, 0.80000001,\n",
       "       0.80000001, 0.83333331, 0.89999998, 0.89999998, 0.93333334,\n",
       "       0.93333334, 0.93333334, 0.93333334, 0.96666664, 0.96666664,\n",
       "       0.96666664, 0.96666664, 0.96666664, 0.96666664, 0.96666664])"
      ]
     },
     "execution_count": 25,
     "metadata": {},
     "output_type": "execute_result"
    }
   ],
   "source": [
    "model.save"
   ]
  },
  {
   "cell_type": "code",
   "execution_count": null,
   "id": "acc40b9e-c196-4e68-8f3b-100ceb3db250",
   "metadata": {},
   "outputs": [],
   "source": []
  }
 ],
 "metadata": {
  "kernelspec": {
   "display_name": "Python 3 (ipykernel)",
   "language": "python",
   "name": "python3"
  },
  "language_info": {
   "codemirror_mode": {
    "name": "ipython",
    "version": 3
   },
   "file_extension": ".py",
   "mimetype": "text/x-python",
   "name": "python",
   "nbconvert_exporter": "python",
   "pygments_lexer": "ipython3",
   "version": "3.8.10"
  }
 },
 "nbformat": 4,
 "nbformat_minor": 5
}
